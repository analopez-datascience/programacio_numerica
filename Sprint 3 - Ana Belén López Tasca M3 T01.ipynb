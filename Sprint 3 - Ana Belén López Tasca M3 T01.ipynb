{
 "cells": [
  {
   "cell_type": "markdown",
   "id": "9debaff1",
   "metadata": {},
   "source": [
    "# EJERCICIO 1\n",
    "Crea una funció que donat un Array d’una dimensió, et faci un resum estadístic bàsic de les dades. Si detecta que l’array té més d’una dimensió, ha de mostrar un missatge d’error."
   ]
  },
  {
   "cell_type": "markdown",
   "id": "cdb887d3",
   "metadata": {},
   "source": [
    "El primer paso va a ser importar la libreria y crear una lista."
   ]
  },
  {
   "cell_type": "markdown",
   "id": "c5b0e401",
   "metadata": {},
   "source": [
    "import numpy as np"
   ]
  },
  {
   "cell_type": "code",
   "execution_count": 3,
   "id": "50c7acb0",
   "metadata": {},
   "outputs": [
    {
     "data": {
      "text/plain": [
       "[1, 2, 3, 4, 5, 6, 7, 8, 9]"
      ]
     },
     "execution_count": 3,
     "metadata": {},
     "output_type": "execute_result"
    }
   ],
   "source": [
    "lista = [1,2,3,4,5,6,7,8,9]\n",
    "lista"
   ]
  },
  {
   "cell_type": "markdown",
   "id": "a4349a29",
   "metadata": {},
   "source": [
    "Ahora convierto la lista en un array de numpy para poder operar con la librería, al venir de una lista va a tener solo una dimesión. "
   ]
  },
  {
   "cell_type": "code",
   "execution_count": 4,
   "id": "1d5cee84",
   "metadata": {},
   "outputs": [
    {
     "data": {
      "text/plain": [
       "array([1, 2, 3, 4, 5, 6, 7, 8, 9])"
      ]
     },
     "execution_count": 4,
     "metadata": {},
     "output_type": "execute_result"
    }
   ],
   "source": [
    "np.array(lista)"
   ]
  },
  {
   "cell_type": "markdown",
   "id": "84eb97b8",
   "metadata": {},
   "source": [
    "Lo guardo en un objeto."
   ]
  },
  {
   "cell_type": "code",
   "execution_count": 5,
   "id": "cd1a513a",
   "metadata": {},
   "outputs": [
    {
     "data": {
      "text/plain": [
       "array([1, 2, 3, 4, 5, 6, 7, 8, 9])"
      ]
     },
     "execution_count": 5,
     "metadata": {},
     "output_type": "execute_result"
    }
   ],
   "source": [
    "arr = np.array(lista)\n",
    "arr"
   ]
  },
  {
   "cell_type": "markdown",
   "id": "a851d227",
   "metadata": {},
   "source": [
    "Compruebo el tipo para asegurarme que sea un array. "
   ]
  },
  {
   "cell_type": "code",
   "execution_count": 7,
   "id": "6caae212",
   "metadata": {},
   "outputs": [
    {
     "data": {
      "text/plain": [
       "numpy.ndarray"
      ]
     },
     "execution_count": 7,
     "metadata": {},
     "output_type": "execute_result"
    }
   ],
   "source": [
    "type(arr)"
   ]
  },
  {
   "cell_type": "markdown",
   "id": "a5270cc2",
   "metadata": {},
   "source": [
    "Comprobamos con el comando .ndim el número de dimensiones sobre nuestro array."
   ]
  },
  {
   "cell_type": "code",
   "execution_count": 8,
   "id": "4148c5f1",
   "metadata": {},
   "outputs": [
    {
     "name": "stdout",
     "output_type": "stream",
     "text": [
      "[1 2 3 4 5 6 7 8 9]\n"
     ]
    },
    {
     "data": {
      "text/plain": [
       "1"
      ]
     },
     "execution_count": 8,
     "metadata": {},
     "output_type": "execute_result"
    }
   ],
   "source": [
    "vector = arr\n",
    "print(vector)\n",
    "vector.ndim"
   ]
  },
  {
   "cell_type": "code",
   "execution_count": 9,
   "id": "69b4b809",
   "metadata": {},
   "outputs": [
    {
     "name": "stdout",
     "output_type": "stream",
     "text": [
      "[1 2 3 4 5 6 7 8 9]\n"
     ]
    },
    {
     "data": {
      "text/plain": [
       "1"
      ]
     },
     "execution_count": 9,
     "metadata": {},
     "output_type": "execute_result"
    }
   ],
   "source": [
    "print(arr)\n",
    "arr.ndim\n"
   ]
  },
  {
   "cell_type": "markdown",
   "id": "12f65b4e",
   "metadata": {},
   "source": [
    "Realizamos el resumen estadístico básico:\n",
    "* Media\n",
    "* Mediana \n",
    "* Moda \n",
    "* Rango\n",
    "* Desviación estándar"
   ]
  },
  {
   "cell_type": "code",
   "execution_count": null,
   "id": "157ad277",
   "metadata": {},
   "outputs": [],
   "source": []
  }
 ],
 "metadata": {
  "kernelspec": {
   "display_name": "Python 3 (ipykernel)",
   "language": "python",
   "name": "python3"
  },
  "language_info": {
   "codemirror_mode": {
    "name": "ipython",
    "version": 3
   },
   "file_extension": ".py",
   "mimetype": "text/x-python",
   "name": "python",
   "nbconvert_exporter": "python",
   "pygments_lexer": "ipython3",
   "version": "3.9.12"
  }
 },
 "nbformat": 4,
 "nbformat_minor": 5
}
