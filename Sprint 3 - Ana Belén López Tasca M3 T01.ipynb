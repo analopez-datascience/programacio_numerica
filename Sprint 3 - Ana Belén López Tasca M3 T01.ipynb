{
 "cells": [
  {
   "cell_type": "markdown",
   "id": "9debaff1",
   "metadata": {},
   "source": [
    "# EJERCICIO 1\n",
    "Crea una funció que donat un Array d’una dimensió, et faci un resum estadístic bàsic de les dades. Si detecta que l’array té més d’una dimensió, ha de mostrar un missatge d’error."
   ]
  },
  {
   "cell_type": "code",
   "execution_count": 2,
   "id": "0a7cac89",
   "metadata": {},
   "outputs": [],
   "source": [
    "import numpy as np"
   ]
  },
  {
   "cell_type": "code",
   "execution_count": 49,
   "id": "4aaf5319",
   "metadata": {},
   "outputs": [
    {
     "name": "stdout",
     "output_type": "stream",
     "text": [
      "---\n",
      "Media: 2.0\n",
      "Mediana: 2.0\n",
      "Desviación Estándar: 0.816496580927726\n",
      "Varianza: 0.6666666666666666\n",
      "Valor máximo: 3\n",
      "Valor minimo: 1\n",
      "---\n",
      "ERROR: El array tiene más de una dimensión\n"
     ]
    }
   ],
   "source": [
    "##Nuestra función se llamará estadística básica y lo primero que comprobará es si tiene más de una dimensión.\n",
    "##Cuando nuestro array no cumpla con la condición, le aplicaremos las operaciones estadísticas básicas.\n",
    "\n",
    "\n",
    "def estadistica_basica(arr):\n",
    "    if np.ndim(arr) > 1:\n",
    "        print(\"ERROR: El array tiene más de una dimensión\")\n",
    "    else:\n",
    "        print(\"Media:\", np.mean(arr))\n",
    "        print(\"Mediana:\",np.median(arr))\n",
    "        print(\"Desviación Estándar:\",np.std(arr))\n",
    "        print(\"Varianza:\",np.var(arr))\n",
    "        print(\"Valor máximo:\",np.max(arr))\n",
    "        print(\"Valor minimo:\",np.min(arr))\n",
    "        \n",
    "dim1 = [1, 2, 3]\n",
    "dim2 = [[1, 2], [3, 4]]\n",
    "print(\"---\")\n",
    "estadistica_basica(dim1)\n",
    "print(\"---\")\n",
    "estadistica_basica(dim2)"
   ]
  },
  {
   "cell_type": "markdown",
   "id": "2864d243",
   "metadata": {},
   "source": [
    "\n",
    "\n",
    "## EJERCICIO 2\n",
    "Crea una funció que et generi un quadrat NxN de nombres aleatoris entre el 0 i el 100."
   ]
  },
  {
   "cell_type": "code",
   "execution_count": 48,
   "id": "1d94ef90",
   "metadata": {},
   "outputs": [
    {
     "name": "stdout",
     "output_type": "stream",
     "text": [
      "Matriz 5x5\n",
      " [[52 15 11 63 36]\n",
      " [38 87 12 99 76]\n",
      " [66 55  2 19  3]\n",
      " [44 91 94 18  1]\n",
      " [ 7 85 86 61 81]]\n",
      "Matriz 2x2\n",
      " [[26 76]\n",
      " [58 71]]\n",
      "Matriz 3x3\n",
      " [[59 32 76]\n",
      " [20 88 78]\n",
      " [22 56 64]]\n"
     ]
    }
   ],
   "source": [
    "##Definiremos la función cuadrado que dado un número n nos retorna una matriz\n",
    "##de nxn con números enteros aleatorios entre 0 y 100.\n",
    "\n",
    "\n",
    "def cuadrado(n):\n",
    "    return np.random.randint(0,100,(n,n))\n",
    "    \n",
    "print(\"Matriz 5x5\\n\",cuadrado(5))\n",
    "print(\"Matriz 2x2\\n\",cuadrado(2))\n",
    "print(\"Matriz 3x3\\n\",cuadrado(3))"
   ]
  },
  {
   "cell_type": "markdown",
   "id": "250de26d",
   "metadata": {},
   "source": [
    "## EJERCICIO 3\n",
    "Crea una funció que donada una taula de dues dimensions (NxM), et calculi els totals per fila i els totals per columna."
   ]
  },
  {
   "cell_type": "code",
   "execution_count": 3,
   "id": "5f2eb858",
   "metadata": {},
   "outputs": [
    {
     "name": "stdout",
     "output_type": "stream",
     "text": [
      "[[33 29 28 22]\n",
      " [89 45 73 15]\n",
      " [97  5 44 10]]\n",
      "---\n",
      "Suma de las filas:\n",
      " [219  79 145  47]\n",
      "Suma de las columnas:\n",
      " [112 222 156]\n"
     ]
    }
   ],
   "source": [
    "##Definimos la función sumatorio, que dado una tabla \n",
    "##nos imprimirá el sumatorio de las filas y las columnas\n",
    "\n",
    "\n",
    "def sumatorio(tabla):\n",
    "    sum_filas = np.sum(tabla, axis=0)\n",
    "    print(\"Suma de las filas:\\n\", sum_filas)\n",
    "    sum_columnas = np.sum(tabla, axis=1)\n",
    "    print(\"Suma de las columnas:\\n\", sum_columnas)\n",
    "\n",
    "array = np.random.randint(0,100,(3,4))\n",
    "print(array)\n",
    "print(\"---\")\n",
    "sumatorio(array) \n",
    "\n",
    "\n"
   ]
  },
  {
   "cell_type": "markdown",
   "id": "2e2a4d84",
   "metadata": {},
   "source": [
    "\n",
    "\n",
    "## EJERCICIO 4\n",
    "\n",
    "Implementa manualment una funció que calculi el coeficient de correlació. Informa-te'n sobre els seus usos i interpretació."
   ]
  },
  {
   "cell_type": "code",
   "execution_count": 12,
   "id": "b524fba2",
   "metadata": {},
   "outputs": [
    {
     "name": "stdout",
     "output_type": "stream",
     "text": [
      "1.0\n"
     ]
    },
    {
     "data": {
      "text/plain": [
       "1.0"
      ]
     },
     "execution_count": 12,
     "metadata": {},
     "output_type": "execute_result"
    }
   ],
   "source": [
    "## Damos dos array (X,Y) que siempre han de tener el mismo tamaño\n",
    "\n",
    "x = np.array([9, 8, 7])\n",
    "y = np.array([5, 4, 3])\n",
    "\n",
    "\n",
    "## Lo pirmero que comprobamos es que sean del mismo tamaño y hacemos la media de cada array\n",
    "\n",
    "def correpearson(x,y):\n",
    "    if(len(x) != len(y)):\n",
    "        print(\"Estos array no tienen el mismo tamaño\")\n",
    "    else:\n",
    "        med_x = sum(x)/len(x)\n",
    "        med_y = sum(y)/len(y)\n",
    "\n",
    "## Hacemos la covarianza, y obtendremos el numerador de nuestra operación\n",
    "\n",
    "        numerador = 0\n",
    "        \n",
    "        for i in range(len(x)):\n",
    "            numerador += ((x[i] - med_x) * (y[i] - med_y))\n",
    "\n",
    "## Ahora sacamos el demonidor de nuestra fórmula\n",
    "\n",
    "        potencia_x = 0\n",
    "        potencia_y = 0\n",
    "        \n",
    "        for i in range(len(x)):\n",
    "            potencia_x += ((x[i]-med_x)**2)\n",
    "            potencia_y += ((y[i]-med_y)**2)\n",
    "        denominador = (potencia_x * potencia_y)**(0.5)\n",
    "        \n",
    "## Resolvemos la fórmula\n",
    "\n",
    "    solucion = numerador / denominador\n",
    "    print(solucion)  \n",
    "    return solucion\n",
    "    \n",
    "correpearson(x,y)\n",
    "\n",
    "## La correlación de los arrays sería positiva completa\n",
    "        "
   ]
  }
 ],
 "metadata": {
  "kernelspec": {
   "display_name": "Python 3 (ipykernel)",
   "language": "python",
   "name": "python3"
  },
  "language_info": {
   "codemirror_mode": {
    "name": "ipython",
    "version": 3
   },
   "file_extension": ".py",
   "mimetype": "text/x-python",
   "name": "python",
   "nbconvert_exporter": "python",
   "pygments_lexer": "ipython3",
   "version": "3.9.12"
  }
 },
 "nbformat": 4,
 "nbformat_minor": 5
}
