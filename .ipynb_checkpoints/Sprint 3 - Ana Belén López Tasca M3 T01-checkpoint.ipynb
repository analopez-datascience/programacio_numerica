{
 "cells": [
  {
   "cell_type": "markdown",
   "id": "9debaff1",
   "metadata": {},
   "source": [
    "# EJERCICIO 1\n",
    "Crea una funció que donat un Array d’una dimensió, et faci un resum estadístic bàsic de les dades. Si detecta que l’array té més d’una dimensió, ha de mostrar un missatge d’error."
   ]
  },
  {
   "cell_type": "markdown",
   "id": "cdb887d3",
   "metadata": {},
   "source": [
    "El primer paso va a ser importar la libreria y crear una lista."
   ]
  },
  {
   "cell_type": "code",
   "execution_count": 4,
   "id": "0a7cac89",
   "metadata": {},
   "outputs": [],
   "source": [
    "import numpy as np"
   ]
  },
  {
   "cell_type": "code",
   "execution_count": 5,
   "id": "50c7acb0",
   "metadata": {},
   "outputs": [
    {
     "data": {
      "text/plain": [
       "[1, 2, 3, 4, 5, 6, 7, 8, 9]"
      ]
     },
     "execution_count": 5,
     "metadata": {},
     "output_type": "execute_result"
    }
   ],
   "source": [
    "lista = [1,2,3,4,5,6,7,8,9]\n",
    "lista"
   ]
  },
  {
   "cell_type": "code",
   "execution_count": 6,
   "id": "1d5cee84",
   "metadata": {},
   "outputs": [
    {
     "data": {
      "text/plain": [
       "array([1, 2, 3, 4, 5, 6, 7, 8, 9])"
      ]
     },
     "execution_count": 6,
     "metadata": {},
     "output_type": "execute_result"
    }
   ],
   "source": [
    "##Ahora convierto la lista en un array de numpy para poder operar con la librería\n",
    "np.array(lista)\n"
   ]
  },
  {
   "cell_type": "code",
   "execution_count": 5,
   "id": "cd1a513a",
   "metadata": {},
   "outputs": [
    {
     "data": {
      "text/plain": [
       "array([1, 2, 3, 4, 5, 6, 7, 8, 9])"
      ]
     },
     "execution_count": 5,
     "metadata": {},
     "output_type": "execute_result"
    }
   ],
   "source": [
    "##La guardo como un objeto\n",
    "arr = np.array(lista)\n",
    "arr"
   ]
  },
  {
   "cell_type": "code",
   "execution_count": 7,
   "id": "6caae212",
   "metadata": {},
   "outputs": [
    {
     "data": {
      "text/plain": [
       "numpy.ndarray"
      ]
     },
     "execution_count": 7,
     "metadata": {},
     "output_type": "execute_result"
    }
   ],
   "source": [
    "##Compruebo el tipo para asegurarme que sea un array.\n",
    "type(arr)"
   ]
  },
  {
   "cell_type": "code",
   "execution_count": 10,
   "id": "4aaf5319",
   "metadata": {},
   "outputs": [
    {
     "data": {
      "text/plain": [
       "array([[7, 4, 9, 2, 8, 3, 5, 5, 3]])"
      ]
     },
     "execution_count": 10,
     "metadata": {},
     "output_type": "execute_result"
    }
   ],
   "source": [
    "##Otra forma de obtener el array y será sobre el que trabajaremos es utilizar el ramdom\n",
    "##que genera un array aleatorio al que añadiéndole la propiedad .randint nos da números enteros\n",
    "arr2 = np.random.randint(1,10,(1,9))\n",
    "arr2"
   ]
  },
  {
   "cell_type": "markdown",
   "id": "12f65b4e",
   "metadata": {},
   "source": [
    "Realizamos el resumen estadístico básico:\n",
    "* Media\n",
    "* Mediana \n",
    "* Moda \n",
    "* Rango\n",
    "* Desviación estándar"
   ]
  },
  {
   "cell_type": "code",
   "execution_count": 11,
   "id": "157ad277",
   "metadata": {},
   "outputs": [
    {
     "data": {
      "text/plain": [
       "5.0"
      ]
     },
     "execution_count": 11,
     "metadata": {},
     "output_type": "execute_result"
    }
   ],
   "source": [
    "##Para calcular la media de nuestro array utilizamos la funcion .median\n",
    "np.median(arr2)"
   ]
  },
  {
   "cell_type": "code",
   "execution_count": 12,
   "id": "dc12d84e",
   "metadata": {},
   "outputs": [
    {
     "data": {
      "text/plain": [
       "2.282515398241571"
      ]
     },
     "execution_count": 12,
     "metadata": {},
     "output_type": "execute_result"
    }
   ],
   "source": [
    "##Para calcular la desviación estándar utilizamos la funcion .std\n",
    "np.std(arr2)"
   ]
  },
  {
   "cell_type": "code",
   "execution_count": 13,
   "id": "6c03589f",
   "metadata": {},
   "outputs": [
    {
     "data": {
      "text/plain": [
       "5.209876543209877"
      ]
     },
     "execution_count": 13,
     "metadata": {},
     "output_type": "execute_result"
    }
   ],
   "source": [
    "##La varianza la calculamos con .var\n",
    "np.var(arr2)"
   ]
  },
  {
   "cell_type": "code",
   "execution_count": 14,
   "id": "47687815",
   "metadata": {},
   "outputs": [
    {
     "data": {
      "text/plain": [
       "5.209876543209877"
      ]
     },
     "execution_count": 14,
     "metadata": {},
     "output_type": "execute_result"
    }
   ],
   "source": [
    "##Comprobación de la varianza, que es igual a la desviación estándar al cuadrado\n",
    "np.std(arr2)**2"
   ]
  },
  {
   "cell_type": "code",
   "execution_count": 15,
   "id": "5fe7b4b1",
   "metadata": {},
   "outputs": [
    {
     "data": {
      "text/plain": [
       "5.111111111111111"
      ]
     },
     "execution_count": 15,
     "metadata": {},
     "output_type": "execute_result"
    }
   ],
   "source": [
    "##La media la calculamnos con la función .mean\n",
    "np.mean(arr2)"
   ]
  },
  {
   "cell_type": "markdown",
   "id": "2f0a5834",
   "metadata": {},
   "source": [
    "Faltan cosas del resumen estadístico básico"
   ]
  },
  {
   "cell_type": "markdown",
   "id": "2864d243",
   "metadata": {},
   "source": [
    "## EJERCICIO 2\n",
    "Crea una funció que et generi un quadrat NxN de nombres aleatoris entre el 0 i el 100."
   ]
  },
  {
   "cell_type": "code",
   "execution_count": 16,
   "id": "1d94ef90",
   "metadata": {},
   "outputs": [
    {
     "data": {
      "text/plain": [
       "array([[65, 65, 13, 97, 82],\n",
       "       [50, 98, 22, 46, 21],\n",
       "       [85, 17, 20, 32, 36],\n",
       "       [73, 87, 91, 55, 78],\n",
       "       [83, 58, 33, 25, 24]])"
      ]
     },
     "execution_count": 16,
     "metadata": {},
     "output_type": "execute_result"
    }
   ],
   "source": [
    "##Volvemos a utilizar la función .random, para generar número aleatorios, acompañada del .radint para que sean enteros\n",
    "##Le añadimos el número de filas y columnas que queremos que tenga nuestra función\n",
    "np.random.randint(0,100,(5,5))"
   ]
  },
  {
   "cell_type": "code",
   "execution_count": null,
   "id": "e40f4f51",
   "metadata": {},
   "outputs": [],
   "source": []
  }
 ],
 "metadata": {
  "kernelspec": {
   "display_name": "Python 3 (ipykernel)",
   "language": "python",
   "name": "python3"
  },
  "language_info": {
   "codemirror_mode": {
    "name": "ipython",
    "version": 3
   },
   "file_extension": ".py",
   "mimetype": "text/x-python",
   "name": "python",
   "nbconvert_exporter": "python",
   "pygments_lexer": "ipython3",
   "version": "3.9.12"
  }
 },
 "nbformat": 4,
 "nbformat_minor": 5
}
